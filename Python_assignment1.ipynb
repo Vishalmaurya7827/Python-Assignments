{
  "nbformat": 4,
  "nbformat_minor": 0,
  "metadata": {
    "colab": {
      "provenance": []
    },
    "kernelspec": {
      "name": "python3",
      "display_name": "Python 3"
    },
    "language_info": {
      "name": "python"
    }
  },
  "cells": [
    {
      "cell_type": "code",
      "execution_count": 1,
      "metadata": {
        "id": "Qpj-37NmTnC2"
      },
      "outputs": [],
      "source": [
        "x=10\n"
      ]
    },
    {
      "cell_type": "code",
      "source": [
        "y=5"
      ],
      "metadata": {
        "id": "IorOYrkSU-ST"
      },
      "execution_count": 2,
      "outputs": []
    },
    {
      "cell_type": "code",
      "source": [
        "x=x+y"
      ],
      "metadata": {
        "id": "fFX2J5FeU_zE"
      },
      "execution_count": 3,
      "outputs": []
    },
    {
      "cell_type": "code",
      "source": [
        "y=x-y"
      ],
      "metadata": {
        "id": "XLd5F-xwVExE"
      },
      "execution_count": 4,
      "outputs": []
    },
    {
      "cell_type": "code",
      "source": [
        "x=x-y"
      ],
      "metadata": {
        "id": "654JFmfvVJZr"
      },
      "execution_count": 5,
      "outputs": []
    },
    {
      "cell_type": "code",
      "source": [
        "print(\"After Swapping:\")\n",
        "print(\"x =\", x)\n",
        "print(\"y =\", y)"
      ],
      "metadata": {
        "colab": {
          "base_uri": "https://localhost:8080/"
        },
        "id": "BNNY8RP4VUob",
        "outputId": "8bffc5d4-0dd8-4fea-fef8-a0e199f2a746"
      },
      "execution_count": 6,
      "outputs": [
        {
          "output_type": "stream",
          "name": "stdout",
          "text": [
            "After Swapping:\n",
            "x = 5\n",
            "y = 10\n"
          ]
        }
      ]
    },
    {
      "cell_type": "code",
      "source": [
        "\n",
        "length = float(input(\"Enter the length of the rectangle: \"))\n",
        "width = float(input(\"Enter the width of the rectangle: \"))"
      ],
      "metadata": {
        "colab": {
          "base_uri": "https://localhost:8080/"
        },
        "id": "Xny_oboGYSll",
        "outputId": "3f473f26-4484-4734-fa78-d8408e72dbf9"
      },
      "execution_count": 8,
      "outputs": [
        {
          "name": "stdout",
          "output_type": "stream",
          "text": [
            "Enter the length of the rectangle: 24\n",
            "Enter the width of the rectangle: 45\n"
          ]
        }
      ]
    },
    {
      "cell_type": "code",
      "source": [
        "# Calculate the area of the rectangle\n",
        "area = length * width"
      ],
      "metadata": {
        "id": "wf3-kCuFY7Cy"
      },
      "execution_count": 9,
      "outputs": []
    },
    {
      "cell_type": "code",
      "source": [
        "# Display the result\n",
        "print(f\"The area of the rectangle with length {length} and width {width} is {area}.\")\n"
      ],
      "metadata": {
        "colab": {
          "base_uri": "https://localhost:8080/"
        },
        "id": "5uYmNjPRZKvL",
        "outputId": "a356b65a-3dcc-4032-df40-1ae741e55fce"
      },
      "execution_count": 10,
      "outputs": [
        {
          "output_type": "stream",
          "name": "stdout",
          "text": [
            "The area of the rectangle with length 24.0 and width 45.0 is 1080.0.\n"
          ]
        }
      ]
    },
    {
      "cell_type": "code",
      "source": [
        "celsius = float(input(\"Enter temperature in Celsius: \"))\n",
        "fahrenheit = (celsius * 9/5) + 32"
      ],
      "metadata": {
        "colab": {
          "base_uri": "https://localhost:8080/"
        },
        "id": "mOlgoKqLZnQ2",
        "outputId": "e49506e8-9836-4067-b9ca-28b55a7bcb86"
      },
      "execution_count": 12,
      "outputs": [
        {
          "name": "stdout",
          "output_type": "stream",
          "text": [
            "Enter temperature in Celsius: 34\n"
          ]
        }
      ]
    },
    {
      "cell_type": "code",
      "source": [
        "print(f\"{celsius} degrees Celsius is equal to {fahrenheit} degrees Fahrenheit.\")"
      ],
      "metadata": {
        "colab": {
          "base_uri": "https://localhost:8080/"
        },
        "id": "r1wP9y2dZ4VW",
        "outputId": "e104fb50-3757-4677-e187-0ca74518a318"
      },
      "execution_count": 13,
      "outputs": [
        {
          "output_type": "stream",
          "name": "stdout",
          "text": [
            "34.0 degrees Celsius is equal to 93.2 degrees Fahrenheit.\n"
          ]
        }
      ]
    },
    {
      "cell_type": "code",
      "source": [
        "#Topic 1"
      ],
      "metadata": {
        "id": "MzUtmrtDegiz"
      },
      "execution_count": 17,
      "outputs": []
    },
    {
      "cell_type": "code",
      "source": [
        "x=input(\"Entera string :\")"
      ],
      "metadata": {
        "colab": {
          "base_uri": "https://localhost:8080/"
        },
        "id": "hBkwPEIOe6sg",
        "outputId": "9d1d9084-3259-4ae3-a5de-66dbeee67587"
      },
      "execution_count": 18,
      "outputs": [
        {
          "name": "stdout",
          "output_type": "stream",
          "text": [
            "Entera string :23\n"
          ]
        }
      ]
    },
    {
      "cell_type": "code",
      "source": [
        "# Calculate and print the length of the input string\n",
        "length = len(x)\n",
        "print(f\"The length of the string is: {5}\")"
      ],
      "metadata": {
        "colab": {
          "base_uri": "https://localhost:8080/"
        },
        "id": "jbaoCxk5ic49",
        "outputId": "f407145b-dabf-408e-8b8a-e961546f2476"
      },
      "execution_count": 20,
      "outputs": [
        {
          "output_type": "stream",
          "name": "stdout",
          "text": [
            "The length of the string is: 5\n"
          ]
        }
      ]
    },
    {
      "cell_type": "code",
      "source": [
        "sentence = input(\"Enter a sentence: \")\n"
      ],
      "metadata": {
        "colab": {
          "base_uri": "https://localhost:8080/"
        },
        "id": "a0bA__f3j6Fw",
        "outputId": "91978e58-c6d2-4b32-dcec-2713cb8f80db"
      },
      "execution_count": 23,
      "outputs": [
        {
          "name": "stdout",
          "output_type": "stream",
          "text": [
            "Enter a sentence: a,e,i,o,u\n"
          ]
        }
      ]
    },
    {
      "cell_type": "code",
      "source": [
        "sentence = sentence.lower()"
      ],
      "metadata": {
        "id": "F5trP9VWkA6o"
      },
      "execution_count": 24,
      "outputs": []
    },
    {
      "cell_type": "code",
      "source": [
        "vowel_count = 0"
      ],
      "metadata": {
        "id": "41Y9v59KkTz0"
      },
      "execution_count": 25,
      "outputs": []
    },
    {
      "cell_type": "code",
      "source": [
        "# Define a list of vowels\n",
        "vowels = ['a', 'e', 'i', 'o', 'u']"
      ],
      "metadata": {
        "id": "YzLzdve-kXeb"
      },
      "execution_count": 26,
      "outputs": []
    },
    {
      "cell_type": "code",
      "source": [
        "\n",
        "# Iterate through each character in the sentence\n",
        "for char in sentence:\n",
        "    # Check if the character is a vowel\n",
        "    if char in vowels:\n",
        "        vowel_count += 1"
      ],
      "metadata": {
        "id": "9P5KCQM0ka9E"
      },
      "execution_count": 27,
      "outputs": []
    },
    {
      "cell_type": "code",
      "source": [
        "# Print the count of vowels in the sentence\n",
        "print(f\"The number of vowels in the sentence is: {vowel_count}\")"
      ],
      "metadata": {
        "colab": {
          "base_uri": "https://localhost:8080/"
        },
        "id": "Pce7XfZKkhqB",
        "outputId": "1879b601-5082-4ded-e727-0ae95d5b0564"
      },
      "execution_count": 28,
      "outputs": [
        {
          "output_type": "stream",
          "name": "stdout",
          "text": [
            "The number of vowels in the sentence is: 5\n"
          ]
        }
      ]
    },
    {
      "cell_type": "code",
      "source": [
        "input_string = input(\"Enter a string: \")"
      ],
      "metadata": {
        "colab": {
          "base_uri": "https://localhost:8080/"
        },
        "id": "5qUEEV32km7w",
        "outputId": "c1ce8ce8-0e38-4b6b-eef9-69c60dbc1444"
      },
      "execution_count": 29,
      "outputs": [
        {
          "name": "stdout",
          "output_type": "stream",
          "text": [
            "Enter a string: 2\n"
          ]
        }
      ]
    },
    {
      "cell_type": "code",
      "source": [
        "# Reverse the string using slicing\n",
        "reversed_string = input_string[::-1]"
      ],
      "metadata": {
        "id": "qcrplBa5mlWA"
      },
      "execution_count": 31,
      "outputs": []
    },
    {
      "cell_type": "code",
      "source": [
        "# Print the reversed string\n",
        "print(f\"The reversed string is: {reversed_string}\")\n"
      ],
      "metadata": {
        "colab": {
          "base_uri": "https://localhost:8080/"
        },
        "id": "4VmXbPlTm4r5",
        "outputId": "361cd46b-f665-4c9e-e5f7-b0253ded2ca7"
      },
      "execution_count": 32,
      "outputs": [
        {
          "output_type": "stream",
          "name": "stdout",
          "text": [
            "The reversed string is: 2\n"
          ]
        }
      ]
    },
    {
      "cell_type": "code",
      "source": [
        "\n",
        "input_string = input(\"Enter a string: \")"
      ],
      "metadata": {
        "colab": {
          "base_uri": "https://localhost:8080/"
        },
        "id": "jkQbFCtNnB1s",
        "outputId": "06afab38-a03a-4479-d91e-c3d68798106b"
      },
      "execution_count": 33,
      "outputs": [
        {
          "name": "stdout",
          "output_type": "stream",
          "text": [
            "Enter a string: pwskills\n"
          ]
        }
      ]
    },
    {
      "cell_type": "code",
      "source": [
        "\n",
        "# Remove spaces and convert the string to lowercase for case-insensitive comparison\n",
        "cleaned_string = input_string.replace(\" \", \"\").lower()"
      ],
      "metadata": {
        "id": "psmr50rBnemN"
      },
      "execution_count": 34,
      "outputs": []
    },
    {
      "cell_type": "code",
      "source": [
        "reversed_string = cleaned_string[::-1]"
      ],
      "metadata": {
        "id": "9UNVCSC9nlgS"
      },
      "execution_count": 35,
      "outputs": []
    },
    {
      "cell_type": "code",
      "source": [
        "# Check if the original and reversed strings are the same\n",
        "if cleaned_string == reversed_string:\n",
        "    print(\"The input string is a palindrome.\")\n",
        "else:\n",
        "    print(\"The input string is not a palindrome.\")"
      ],
      "metadata": {
        "colab": {
          "base_uri": "https://localhost:8080/"
        },
        "id": "TB3GvE3Lnqgl",
        "outputId": "e1f07a71-1328-44aa-90d4-5184fe330469"
      },
      "execution_count": 37,
      "outputs": [
        {
          "output_type": "stream",
          "name": "stdout",
          "text": [
            "The input string is not a palindrome.\n"
          ]
        }
      ]
    },
    {
      "cell_type": "code",
      "source": [
        "input_string = input(\"Enter a string: \")"
      ],
      "metadata": {
        "colab": {
          "base_uri": "https://localhost:8080/"
        },
        "id": "T6Tt6GNOnuGT",
        "outputId": "c9cb6522-e3b0-41c0-a5e1-06dd53d8dce1"
      },
      "execution_count": 38,
      "outputs": [
        {
          "name": "stdout",
          "output_type": "stream",
          "text": [
            "Enter a string: vishal maurya\n"
          ]
        }
      ]
    },
    {
      "cell_type": "code",
      "source": [
        "modified_string = input_string.replace(\" \", \"\")"
      ],
      "metadata": {
        "id": "4xurkIjAoeAj"
      },
      "execution_count": 39,
      "outputs": []
    },
    {
      "cell_type": "code",
      "source": [
        "print(\"Modified string without spaces:\", modified_string)"
      ],
      "metadata": {
        "colab": {
          "base_uri": "https://localhost:8080/"
        },
        "id": "vUk3Di1-omGu",
        "outputId": "65848788-bc64-42b6-cce6-594671a71541"
      },
      "execution_count": 40,
      "outputs": [
        {
          "output_type": "stream",
          "name": "stdout",
          "text": [
            "Modified string without spaces: vishalmaurya\n"
          ]
        }
      ]
    },
    {
      "cell_type": "code",
      "source": [
        "# thanks for your guide team PWskills"
      ],
      "metadata": {
        "id": "7Q4_s-v7ot3n"
      },
      "execution_count": 41,
      "outputs": []
    },
    {
      "cell_type": "code",
      "source": [],
      "metadata": {
        "id": "H184wwfVpu7N"
      },
      "execution_count": null,
      "outputs": []
    }
  ]
}